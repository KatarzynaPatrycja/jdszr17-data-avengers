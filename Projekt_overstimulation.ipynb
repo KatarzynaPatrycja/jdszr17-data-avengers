{
 "cells": [
  {
   "cell_type": "markdown",
   "metadata": {},
   "source": [
    "__OVERSTIMULATION BEHAVIOR ANALYSIS__"
   ]
  },
  {
   "cell_type": "markdown",
   "metadata": {},
   "source": [
    "__Project Definition & Preliminary Analysis__\n",
    "\n",
    "_Project Definition_\n",
    "\n",
    "__Title__: Overstimulation Behavior and Lifestyle Analysis\n",
    "\n",
    "__Objective__: Utilizing the \"overstimulation_dataset.csv\", this projects aims to analyze how various lifestyle factors influence overstimulation behaviors. The goal is to identify patterns and correlations that can informa strategies for managing overstimulation.\n",
    "\n",
    "__Key Research Questions__:\n",
    "1. Which lifestyle factors are most strongly associated with overstimulation behaviours?\n",
    "2. Are there identifiable patterns or trends in overstimulation incidents across different demographics?\n",
    "3. Is overstimulation a risk factor for depression? \n",
    "4. Can we develop a predictive model to anticipate overstimulation episodes based on lifestyle data?\n",
    "5. Can recommendations be made for daily habits and lifestyle hygiene that can minimize the risk of overstimulation and improve an individual's mental health?\n",
    "6. Is there a correlation between excessive stress and overstimulation and symptoms of depression?"
   ]
  },
  {
   "cell_type": "markdown",
   "metadata": {},
   "source": [
    "__Dataset Overview__:\n",
    "\n",
    "Source: Overstimulation Behavior and Lifestyle Dataset from Kaggle (https://www.kaggle.com/datasets/miadul/overstimulation-behavior-and-lifestyle-dataset/data)\n",
    "\n",
    "File: \"overstimulation_dataset.csv\"\n",
    "\n",
    "Features:\n",
    "1. Demographics\n",
    "- Age: Age of the individual (18-60)\n",
    "2. Lifestyle & Daily Routine\n",
    "- Sleep_Hours: Hours of sleep per day (3-10)\n",
    "- Screen_Time: Screen time per day (1-12)\n",
    "- Work_Hours: Hours worked per day (4-15)\n",
    "- Exercise_Hours: Hours of physical activity per day(0-3)\n",
    "- Caffeine_Intake: Number of cups of caffeinated drinks(0-5)\n",
    "- Tech_Usage_Hours: Total hours spent using technology per day (1-10)\n",
    "3. Environmental Exposure\n",
    "- Noise_Exposure: Frequency of exposure to high noise (0-5)\n",
    "- Social_Interaction: Number of daily social interactions (0-10)\n",
    "4. Mental Health & Psychological Traits\n",
    "- Stress_Level: Self-reported stress level (1=low stress, 10=high stress)\n",
    "- Anxiety_Score: Anxiety score (1-10)\n",
    "- Depression_Score: Depression score (1-10)\n",
    "- Overthinking_Score: Tendency to overthink (1-10)\n",
    "- Irritability_Score: Irritability (1-10)\n",
    "- Sensory_Sensitivity: Sensitivity to sensory input(0 = low sensitivity, 4 = high sensitivity)\n",
    "- Headache_Frequency: Headaches per week\n",
    "5. Habits & Coping Mechanisms\n",
    "- Multitasking_Habit: Whether the person tends to multitask (1 = Yes, 0 = No)\n",
    "- Meditation_Habit: Whether the person practices meditation/mindfulness (1 = Yes, 0 = No)\n",
    "- Sleep_Quality: Quality of sleep (1-4)\n",
    "6. Target Variable\n",
    "- Overstimulated: 1 = Yes, 0 = No"
   ]
  },
  {
   "cell_type": "markdown",
   "metadata": {},
   "source": [
    "__Expected Outcomes__:\n",
    "\n",
    "* Identification of key factors contributing to overstimulation\n",
    "* Clustering of individuals based on overstimulation response patterns\n",
    "* Preliminary predictive model to identify potential overstimulation"
   ]
  },
  {
   "cell_type": "markdown",
   "metadata": {},
   "source": [
    "_Preliminary Analysis_\n",
    "\n",
    "1. Data Exploration"
   ]
  },
  {
   "cell_type": "code",
   "execution_count": null,
   "metadata": {},
   "outputs": [],
   "source": [
    "import numpy as np\n",
    "import matplotlib.pyplot as plt\n",
    "import pandas as pd\n",
    "import seaborn as sns\n"
   ]
  },
  {
   "cell_type": "code",
   "execution_count": null,
   "metadata": {},
   "outputs": [],
   "source": [
    "data = pd.read_csv('overstimulation_dataset.csv')"
   ]
  },
  {
   "cell_type": "code",
   "execution_count": null,
   "metadata": {},
   "outputs": [],
   "source": [
    "data.head(5)"
   ]
  },
  {
   "cell_type": "code",
   "execution_count": null,
   "metadata": {},
   "outputs": [],
   "source": [
    "data.shape"
   ]
  },
  {
   "cell_type": "code",
   "execution_count": null,
   "metadata": {},
   "outputs": [],
   "source": [
    "data.isnull().sum()"
   ]
  },
  {
   "cell_type": "code",
   "execution_count": null,
   "metadata": {},
   "outputs": [],
   "source": [
    "data.info()"
   ]
  },
  {
   "cell_type": "markdown",
   "metadata": {},
   "source": [
    "2. Descriptive Statistics & Visualization"
   ]
  },
  {
   "cell_type": "code",
   "execution_count": null,
   "metadata": {},
   "outputs": [],
   "source": [
    "data.describe()"
   ]
  },
  {
   "cell_type": "code",
   "execution_count": null,
   "metadata": {},
   "outputs": [],
   "source": [
    "data.columns"
   ]
  },
  {
   "cell_type": "code",
   "execution_count": null,
   "metadata": {},
   "outputs": [],
   "source": [
    "data['Overstimulated'].value_counts()"
   ]
  },
  {
   "cell_type": "code",
   "execution_count": null,
   "metadata": {},
   "outputs": [],
   "source": [
    "overstim_counts = data[\"Overstimulated\"].value_counts()\n",
    "labels = ['Not Overstimulated (0)', 'Overstimulated (1)']\n",
    "plt.figure(figsize=(6, 6))\n",
    "plt.pie(overstim_counts, labels=labels, autopct='%1.1f%%', colors=sns.color_palette(\"viridis\"), startangle=90)\n",
    "plt.title(\"Proportion of Overstimulation Among Users\")\n",
    "plt.axis('equal')\n",
    "plt.show()"
   ]
  },
  {
   "cell_type": "code",
   "execution_count": null,
   "metadata": {},
   "outputs": [],
   "source": [
    "binary_cols = ['Meditation_Habit', 'Multitasking_Habit']\n",
    "for col in binary_cols:\n",
    "    plt.figure(figsize=(6,4))\n",
    "    count = data[col].value_counts()\n",
    "    plt.pie(count, labels=count.index, autopct='%1.1f%%', colors=sns.color_palette('viridis', len(count)).as_hex())\n",
    "    plt.title(f'{col} distribution')\n",
    "    plt.show()"
   ]
  },
  {
   "cell_type": "code",
   "execution_count": null,
   "metadata": {},
   "outputs": [],
   "source": [
    "categorical_cols = ['Sensory_Sensitivity', 'Sleep_Quality', 'Noise_Exposure', 'Headache_Frequency']\n",
    "for col in categorical_cols:\n",
    "    plt.figure(figsize=(6,4))\n",
    "    sns.histplot(x=col, data=data, palette='viridis')\n",
    "    plt.title(f'{col} distribution')\n",
    "    plt.tight_layout()\n",
    "    plt.show()"
   ]
  },
  {
   "cell_type": "code",
   "execution_count": null,
   "metadata": {},
   "outputs": [],
   "source": [
    "#sprawdzenie wartości unikalnych w zmiennych kategorycznych\n",
    "categorical_cols = ['Meditation_Habit', 'Multitasking_Habit', 'Sensory_Sensitivity', 'Sleep_Quality', 'Noise_Exposure', 'Headache_Frequency']\n",
    "for col in categorical_cols:\n",
    "    print(f\"{col}: {data[col].unique()}\")"
   ]
  },
  {
   "cell_type": "code",
   "execution_count": null,
   "metadata": {},
   "outputs": [],
   "source": [
    "# upewnienie się czy wszystkie wskazane kolumny kategoryczne są typu int\n",
    "data['Multitasking_Habit'] = data['Multitasking_Habit'].astype(int)     # binarne\n",
    "data['Meditation_Habit'] = data['Meditation_Habit'].astype(int)         # binarne\n",
    "data['Sensory_Sensitivity'] = data['Sensory_Sensitivity'].astype(int)\n",
    "data['Sleep_Quality'] = data['Sleep_Quality'].astype(int)\n",
    "data['Noise_Exposure'] = data['Noise_Exposure'].astype(int)\n",
    "data['Headache_Frequency'] = data['Headache_Frequency'].astype(int)"
   ]
  },
  {
   "cell_type": "code",
   "execution_count": null,
   "metadata": {},
   "outputs": [],
   "source": [
    "data.hist(figsize=(10,10), color='skyblue', bins=30, xlabelsize=8, ylabelsize=8, edgecolor='black')\n",
    "plt.suptitle(\"Histogram of numerical columns in dataset\")\n",
    "plt.show()"
   ]
  },
  {
   "cell_type": "code",
   "execution_count": null,
   "metadata": {},
   "outputs": [],
   "source": [
    "# Sleep hours vs Age\n",
    "plt.figure(figsize=(10,6))\n",
    "sns.lineplot(x='Age', y='Sleep_Hours', data=data, marker='o', color='blue')\n",
    "plt.title('Sleep hours vs Age')\n",
    "plt.show()"
   ]
  },
  {
   "cell_type": "code",
   "execution_count": null,
   "metadata": {},
   "outputs": [],
   "source": [
    "# Sleep hours vs Stress level\n",
    "plt.figure(figsize=(10,6))\n",
    "sns.lineplot(x='Stress_Level', y='Sleep_Hours', data=data, marker='o', color='blue')\n",
    "plt.title('Sleep hours vs Stress level')\n",
    "plt.show()"
   ]
  },
  {
   "cell_type": "code",
   "execution_count": null,
   "metadata": {},
   "outputs": [],
   "source": [
    "# Screen time vs Stress level\n",
    "plt.figure(figsize=(10,6))\n",
    "sns.lineplot(x='Stress_Level', y='Screen_Time', data=data, marker='o', color='red')\n",
    "plt.title('Screen time vs Stress level')\n",
    "plt.show()"
   ]
  },
  {
   "cell_type": "code",
   "execution_count": null,
   "metadata": {},
   "outputs": [],
   "source": [
    "# Screen time vs overstimulation\n",
    "plt.figure(figsize=(10,6))\n",
    "sns.scatterplot(x='Screen_Time', y='Stress_Level', data=data, marker='o', hue='Overstimulated')\n",
    "plt.title('Screen time vs overstimulation')\n",
    "plt.show()"
   ]
  },
  {
   "cell_type": "code",
   "execution_count": null,
   "metadata": {},
   "outputs": [],
   "source": [
    "sns.pairplot(data[['Age', 'Sleep_Hours', 'Screen_Time', 'Stress_Level', 'Overstimulated']], hue='Overstimulated', palette='husl')\n",
    "plt.show()"
   ]
  },
  {
   "cell_type": "code",
   "execution_count": null,
   "metadata": {},
   "outputs": [],
   "source": [
    "plt.figure(figsize=(12,6))\n",
    "sns.heatmap(data.corr(), annot=True, cmap='viridis', fmt='.2f', linewidths=0.5)\n",
    "plt.title('Correlation heatmap')\n",
    "plt.show()"
   ]
  },
  {
   "cell_type": "code",
   "execution_count": null,
   "metadata": {},
   "outputs": [],
   "source": [
    "# One-Hot Encoding dla kolumn niebinarnych\n",
    "data = pd.get_dummies(data, columns=['Sensory_Sensitivity', 'Sleep_Quality', \n",
    "                                 'Noise_Exposure', 'Headache_Frequency'], drop_first=True)"
   ]
  },
  {
   "cell_type": "code",
   "execution_count": null,
   "metadata": {},
   "outputs": [],
   "source": [
    "# wyszukanie wszystkich kolumn typu bool\n",
    "bool_cols = data.select_dtypes(include='bool').columns\n",
    "\n",
    "# zamiana na int\n",
    "data[bool_cols] = data[bool_cols].astype(int)\n",
    "data.head()"
   ]
  },
  {
   "cell_type": "code",
   "execution_count": null,
   "metadata": {},
   "outputs": [],
   "source": [
    "data.describe()"
   ]
  },
  {
   "cell_type": "code",
   "execution_count": null,
   "metadata": {},
   "outputs": [],
   "source": [
    "#18-25 young adults\n",
    "# 26-35 early adults\n",
    "# 36-45 mid adults\n",
    "# 46-60 older adults"
   ]
  },
  {
   "cell_type": "code",
   "execution_count": null,
   "metadata": {},
   "outputs": [],
   "source": [
    "# One-Hot Encoding dla Age\n",
    "labels = ['Young_Adults', 'Early_Adults', 'Mid_Adults', 'Older_Adults']\n",
    "bins=[18, 25, 35, 45, 60]\n",
    "\n",
    "data['Age'] = pd.cut(data['Age'], bins=bins, labels=labels)\n",
    "data = pd.get_dummies(data, columns=['Age'], drop_first=True).head()\n",
    "print(data.head())"
   ]
  },
  {
   "cell_type": "code",
   "execution_count": null,
   "metadata": {},
   "outputs": [],
   "source": [
    "bool_cols = data.select_dtypes(include='bool').columns\n",
    "\n",
    "# zamiana na int\n",
    "data[bool_cols] = data[bool_cols].astype(int)\n",
    "data.head()"
   ]
  },
  {
   "cell_type": "markdown",
   "metadata": {},
   "source": [
    "3. Initial Insights & Hypotheses\n",
    "\n",
    "* Do overstimulation levels correlate with specific environmental triggers (eg. high noise levels)?\n",
    "* Can we detect clusters of individuals based on overstimulation score?"
   ]
  },
  {
   "cell_type": "code",
   "execution_count": null,
   "metadata": {},
   "outputs": [],
   "source": [
    "from sklearn.model_selection import train_test_split\n",
    "from sklearn.preprocessing import StandardScaler, LabelEncoder\n",
    "from sklearn.metrics import accuracy_score, classification_report, confusion_matrix, roc_curve\n",
    "from sklearn.ensemble import RandomForestClassifier, GradientBoostingClassifier\n",
    "from sklearn.tree import DecisionTreeClassifier\n",
    "from sklearn.linear_model import LogisticRegression"
   ]
  },
  {
   "cell_type": "code",
   "execution_count": null,
   "metadata": {},
   "outputs": [],
   "source": [
    "X = data.drop(columns=['Overstimulated'])  # Features\n",
    "y = data['Overstimulated']  # Target variable"
   ]
  },
  {
   "cell_type": "code",
   "execution_count": null,
   "metadata": {},
   "outputs": [],
   "source": []
  }
 ],
 "metadata": {
  "kernelspec": {
   "display_name": "base",
   "language": "python",
   "name": "python3"
  },
  "language_info": {
   "codemirror_mode": {
    "name": "ipython",
    "version": 3
   },
   "file_extension": ".py",
   "mimetype": "text/x-python",
   "name": "python",
   "nbconvert_exporter": "python",
   "pygments_lexer": "ipython3",
   "version": "3.11.7"
  }
 },
 "nbformat": 4,
 "nbformat_minor": 2
}
